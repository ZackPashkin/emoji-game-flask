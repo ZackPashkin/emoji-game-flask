{
  "nbformat": 4,
  "nbformat_minor": 0,
  "metadata": {
    "colab": {
      "name": "Guess Emoji game flask colab ngrok.ipynb",
      "provenance": [],
      "collapsed_sections": [],
      "include_colab_link": true
    },
    "kernelspec": {
      "name": "python3",
      "display_name": "Python 3"
    }
  },
  "cells": [
    {
      "cell_type": "markdown",
      "metadata": {
        "id": "view-in-github",
        "colab_type": "text"
      },
      "source": [
        "<a href=\"https://colab.research.google.com/github/ZackPashkin/emoji-game-flask/blob/main/Guess_Emoji_game_flask_colab_ngrok.ipynb\" target=\"_parent\"><img src=\"https://colab.research.google.com/assets/colab-badge.svg\" alt=\"Open In Colab\"/></a>"
      ]
    },
    {
      "cell_type": "code",
      "metadata": {
        "id": "Avy3thUfbtbL",
        "colab": {
          "base_uri": "https://localhost:8080/"
        },
        "outputId": "113f0b55-d6ee-4188-fefb-92142cd1a2bb"
      },
      "source": [
        "!pip install flask-ngrok"
      ],
      "execution_count": 1,
      "outputs": [
        {
          "output_type": "stream",
          "text": [
            "Collecting flask-ngrok\n",
            "  Downloading https://files.pythonhosted.org/packages/af/6c/f54cb686ad1129e27d125d182f90f52b32f284e6c8df58c1bae54fa1adbc/flask_ngrok-0.0.25-py3-none-any.whl\n",
            "Requirement already satisfied: requests in /usr/local/lib/python3.6/dist-packages (from flask-ngrok) (2.23.0)\n",
            "Requirement already satisfied: Flask>=0.8 in /usr/local/lib/python3.6/dist-packages (from flask-ngrok) (1.1.2)\n",
            "Requirement already satisfied: idna<3,>=2.5 in /usr/local/lib/python3.6/dist-packages (from requests->flask-ngrok) (2.10)\n",
            "Requirement already satisfied: urllib3!=1.25.0,!=1.25.1,<1.26,>=1.21.1 in /usr/local/lib/python3.6/dist-packages (from requests->flask-ngrok) (1.24.3)\n",
            "Requirement already satisfied: chardet<4,>=3.0.2 in /usr/local/lib/python3.6/dist-packages (from requests->flask-ngrok) (3.0.4)\n",
            "Requirement already satisfied: certifi>=2017.4.17 in /usr/local/lib/python3.6/dist-packages (from requests->flask-ngrok) (2020.6.20)\n",
            "Requirement already satisfied: click>=5.1 in /usr/local/lib/python3.6/dist-packages (from Flask>=0.8->flask-ngrok) (7.1.2)\n",
            "Requirement already satisfied: itsdangerous>=0.24 in /usr/local/lib/python3.6/dist-packages (from Flask>=0.8->flask-ngrok) (1.1.0)\n",
            "Requirement already satisfied: Jinja2>=2.10.1 in /usr/local/lib/python3.6/dist-packages (from Flask>=0.8->flask-ngrok) (2.11.2)\n",
            "Requirement already satisfied: Werkzeug>=0.15 in /usr/local/lib/python3.6/dist-packages (from Flask>=0.8->flask-ngrok) (1.0.1)\n",
            "Requirement already satisfied: MarkupSafe>=0.23 in /usr/local/lib/python3.6/dist-packages (from Jinja2>=2.10.1->Flask>=0.8->flask-ngrok) (1.1.1)\n",
            "Installing collected packages: flask-ngrok\n",
            "Successfully installed flask-ngrok-0.0.25\n"
          ],
          "name": "stdout"
        }
      ]
    },
    {
      "cell_type": "code",
      "metadata": {
        "id": "SYy6AkF8ts2e",
        "colab": {
          "base_uri": "https://localhost:8080/"
        },
        "outputId": "215e1c2e-d0c9-466f-c37c-fc879128ea4b"
      },
      "source": [
        "a = 2\n",
        "b = 4\n",
        "a*b\n",
        "\n",
        "if b % 2 == 0:\n",
        "  print(\"Hello!!\")"
      ],
      "execution_count": 4,
      "outputs": [
        {
          "output_type": "stream",
          "text": [
            "Hello!!\n"
          ],
          "name": "stdout"
        }
      ]
    },
    {
      "cell_type": "code",
      "metadata": {
        "colab": {
          "base_uri": "https://localhost:8080/"
        },
        "id": "PbEUD95EY24o",
        "outputId": "6e29d0b8-d8b4-47a9-a8fb-78969d4669d9"
      },
      "source": [
        "first_variable = 7\n",
        "second_variable = 13\n",
        "\n",
        "if second_variable % first_variable >= 1:\n",
        "  rest = second_variable % first_variable\n",
        "\n",
        "\n",
        "  print(f\"Here {rest} left\")"
      ],
      "execution_count": 26,
      "outputs": [
        {
          "output_type": "stream",
          "text": [
            "Here 6 left\n"
          ],
          "name": "stdout"
        }
      ]
    },
    {
      "cell_type": "code",
      "metadata": {
        "id": "gIMYL9Zgt0gq"
      },
      "source": [
        "# FizzBuzz\n",
        "for i in range(100):\n",
        "  if i % 10 == 0:\n",
        "    print(\"Fizz\")\n",
        "  if i % 5 == 0:\n",
        "    print(\"Buzz\")\n",
        "  if i % 15 == 0:\n",
        "    print(\"FizzBuzz\")\n",
        "\n",
        "\n",
        "\n",
        "\n"
      ],
      "execution_count": null,
      "outputs": []
    },
    {
      "cell_type": "code",
      "metadata": {
        "id": "BBgyk79Ot4r6",
        "colab": {
          "base_uri": "https://localhost:8080/"
        },
        "outputId": "33e6991a-2a6a-4902-cc3b-484e006f75f1"
      },
      "source": [
        "# !pip install flask-ngrok\n",
        "from flask_ngrok import run_with_ngrok\n",
        "from flask import Flask, render_template, session, request, redirect \n",
        "app = Flask(__name__)\n",
        "run_with_ngrok(app)   \n",
        "\n",
        "@app.route('/', methods=[\"POST\",\"GET\"])\n",
        "def home():\n",
        "  return render_template(\"index.html\")\n",
        "\n",
        "@app.route('/predict',methods = ['POST'])\n",
        "def result():\n",
        "  user_input = request.form[\"guess\"]\n",
        "  if user_input == \"❤️\":  \n",
        "    result = \"heart\"\n",
        "  else:\n",
        "    result = \"try again\"\n",
        "\n",
        "\n",
        "\n",
        "  return render_template(\"predict.html\", result = result)\n",
        "\n",
        "app.run()"
      ],
      "execution_count": null,
      "outputs": [
        {
          "output_type": "stream",
          "text": [
            " * Serving Flask app \"__main__\" (lazy loading)\n",
            " * Environment: production\n",
            "\u001b[31m   WARNING: This is a development server. Do not use it in a production deployment.\u001b[0m\n",
            "\u001b[2m   Use a production WSGI server instead.\u001b[0m\n",
            " * Debug mode: off\n"
          ],
          "name": "stdout"
        },
        {
          "output_type": "stream",
          "text": [
            " * Running on http://127.0.0.1:5000/ (Press CTRL+C to quit)\n"
          ],
          "name": "stderr"
        },
        {
          "output_type": "stream",
          "text": [
            " * Running on http://b63fd110d808.ngrok.io\n",
            " * Traffic stats available on http://127.0.0.1:4040\n"
          ],
          "name": "stdout"
        },
        {
          "output_type": "stream",
          "text": [
            "[2020-11-18 16:09:09,642] ERROR in app: Exception on / [GET]\n",
            "Traceback (most recent call last):\n",
            "  File \"/usr/local/lib/python3.6/dist-packages/flask/app.py\", line 2447, in wsgi_app\n",
            "    response = self.full_dispatch_request()\n",
            "  File \"/usr/local/lib/python3.6/dist-packages/flask/app.py\", line 1952, in full_dispatch_request\n",
            "    rv = self.handle_user_exception(e)\n",
            "  File \"/usr/local/lib/python3.6/dist-packages/flask/app.py\", line 1821, in handle_user_exception\n",
            "    reraise(exc_type, exc_value, tb)\n",
            "  File \"/usr/local/lib/python3.6/dist-packages/flask/_compat.py\", line 39, in reraise\n",
            "    raise value\n",
            "  File \"/usr/local/lib/python3.6/dist-packages/flask/app.py\", line 1950, in full_dispatch_request\n",
            "    rv = self.dispatch_request()\n",
            "  File \"/usr/local/lib/python3.6/dist-packages/flask/app.py\", line 1936, in dispatch_request\n",
            "    return self.view_functions[rule.endpoint](**req.view_args)\n",
            "  File \"<ipython-input-15-6953fd4a9a73>\", line 9, in home\n",
            "    return render_template(\"index.html\")\n",
            "  File \"/usr/local/lib/python3.6/dist-packages/flask/templating.py\", line 140, in render_template\n",
            "    ctx.app,\n",
            "  File \"/usr/local/lib/python3.6/dist-packages/flask/templating.py\", line 120, in _render\n",
            "    rv = template.render(context)\n",
            "  File \"/usr/local/lib/python3.6/dist-packages/jinja2/environment.py\", line 1090, in render\n",
            "    self.environment.handle_exception()\n",
            "  File \"/usr/local/lib/python3.6/dist-packages/jinja2/environment.py\", line 832, in handle_exception\n",
            "    reraise(*rewrite_traceback_stack(source=source))\n",
            "  File \"/usr/local/lib/python3.6/dist-packages/jinja2/_compat.py\", line 28, in reraise\n",
            "    raise value.with_traceback(tb)\n",
            "  File \"/content/templates/index.html\", line 10, in top-level template code\n",
            "    <form action=\"{{ url_for(\"predict\") }}\" method=\"post\">\n",
            "  File \"/usr/local/lib/python3.6/dist-packages/flask/helpers.py\", line 370, in url_for\n",
            "    return appctx.app.handle_url_build_error(error, endpoint, values)\n",
            "  File \"/usr/local/lib/python3.6/dist-packages/flask/app.py\", line 2216, in handle_url_build_error\n",
            "    reraise(exc_type, exc_value, tb)\n",
            "  File \"/usr/local/lib/python3.6/dist-packages/flask/_compat.py\", line 39, in reraise\n",
            "    raise value\n",
            "  File \"/usr/local/lib/python3.6/dist-packages/flask/helpers.py\", line 358, in url_for\n",
            "    endpoint, values, method=method, force_external=external\n",
            "  File \"/usr/local/lib/python3.6/dist-packages/werkzeug/routing.py\", line 2179, in build\n",
            "    raise BuildError(endpoint, values, method, self)\n",
            "werkzeug.routing.BuildError: Could not build url for endpoint 'predict'. Did you mean 'result' instead?\n",
            "127.0.0.1 - - [18/Nov/2020 16:09:09] \"\u001b[35m\u001b[1mGET / HTTP/1.1\u001b[0m\" 500 -\n",
            "127.0.0.1 - - [18/Nov/2020 16:09:10] \"\u001b[33mGET /favicon.ico HTTP/1.1\u001b[0m\" 404 -\n"
          ],
          "name": "stderr"
        }
      ]
    },
    {
      "cell_type": "code",
      "metadata": {
        "id": "2C0WLnwfe_7P",
        "colab": {
          "base_uri": "https://localhost:8080/"
        },
        "outputId": "10174950-6243-479c-850d-be08db261eea"
      },
      "source": [
        "from flask_ngrok import run_with_ngrok\n",
        "from flask import Flask, render_template, session, request, redirect \n",
        "import os\n",
        "import random\n",
        "\n",
        "app = Flask(__name__)\n",
        "app.secret_key = 'thisIsSecret'\n",
        "run_with_ngrok(app)   #starts ngrok when the app is run\n",
        "\n",
        "@app.route('/', methods=['POST', 'GET'])\n",
        "def home():\n",
        "  collection_of_emojis = ['😊','😔','❤️','👍']\n",
        "  session[\"word\"] =  random.choice(collection_of_emojis)\n",
        "  return render_template(\"index.html\")\n",
        "\n",
        "@app.route('/predict',methods = ['POST'])\n",
        "def predict(): \n",
        "  result = request.form[\"guess\"]\n",
        "  pred = session[\"word\"]\n",
        "  if result == pred:\n",
        "    text = \"You win! The answer is \"\n",
        "    return render_template(\"predict.html\", text=text, pred=pred)\n",
        "  else:\n",
        "    text = \"Mismatch! The answer is \"\n",
        "    return render_template(\"predict_loose.html\", text=text, pred=pred)\n",
        "\n",
        "@app.route('/button') \n",
        "def get_ses(): \n",
        "  return redirect('/')\n",
        "  \t\n",
        "app.run()"
      ],
      "execution_count": null,
      "outputs": [
        {
          "output_type": "stream",
          "text": [
            " * Serving Flask app \"__main__\" (lazy loading)\n",
            " * Environment: production\n",
            "\u001b[31m   WARNING: This is a development server. Do not use it in a production deployment.\u001b[0m\n",
            "\u001b[2m   Use a production WSGI server instead.\u001b[0m\n",
            " * Debug mode: off\n"
          ],
          "name": "stdout"
        },
        {
          "output_type": "stream",
          "text": [
            " * Running on http://127.0.0.1:5000/ (Press CTRL+C to quit)\n"
          ],
          "name": "stderr"
        },
        {
          "output_type": "stream",
          "text": [
            " * Running on http://ec8ef648073d.ngrok.io\n",
            " * Traffic stats available on http://127.0.0.1:4040\n"
          ],
          "name": "stdout"
        },
        {
          "output_type": "stream",
          "text": [
            "127.0.0.1 - - [18/Nov/2020 16:09:56] \"\u001b[37mGET / HTTP/1.1\u001b[0m\" 200 -\n",
            "127.0.0.1 - - [18/Nov/2020 16:09:56] \"\u001b[37mGET / HTTP/1.1\u001b[0m\" 200 -\n",
            "127.0.0.1 - - [18/Nov/2020 16:09:56] \"\u001b[33mGET /favicon.ico HTTP/1.1\u001b[0m\" 404 -\n",
            "127.0.0.1 - - [18/Nov/2020 16:10:04] \"\u001b[37mPOST /predict HTTP/1.1\u001b[0m\" 200 -\n",
            "127.0.0.1 - - [18/Nov/2020 16:10:07] \"\u001b[32mGET /button HTTP/1.1\u001b[0m\" 302 -\n",
            "127.0.0.1 - - [18/Nov/2020 16:10:08] \"\u001b[37mGET / HTTP/1.1\u001b[0m\" 200 -\n",
            "127.0.0.1 - - [18/Nov/2020 16:10:14] \"\u001b[37mPOST /predict HTTP/1.1\u001b[0m\" 200 -\n",
            "127.0.0.1 - - [18/Nov/2020 16:10:21] \"\u001b[32mGET /button HTTP/1.1\u001b[0m\" 302 -\n",
            "127.0.0.1 - - [18/Nov/2020 16:10:21] \"\u001b[37mGET / HTTP/1.1\u001b[0m\" 200 -\n",
            "127.0.0.1 - - [18/Nov/2020 16:10:24] \"\u001b[37mPOST /predict HTTP/1.1\u001b[0m\" 200 -\n",
            "127.0.0.1 - - [18/Nov/2020 16:10:26] \"\u001b[32mGET /button HTTP/1.1\u001b[0m\" 302 -\n",
            "127.0.0.1 - - [18/Nov/2020 16:10:26] \"\u001b[37mGET / HTTP/1.1\u001b[0m\" 200 -\n",
            "127.0.0.1 - - [18/Nov/2020 16:10:30] \"\u001b[37mPOST /predict HTTP/1.1\u001b[0m\" 200 -\n",
            "127.0.0.1 - - [18/Nov/2020 16:10:33] \"\u001b[32mGET /button HTTP/1.1\u001b[0m\" 302 -\n",
            "127.0.0.1 - - [18/Nov/2020 16:10:34] \"\u001b[37mGET / HTTP/1.1\u001b[0m\" 200 -\n",
            "127.0.0.1 - - [18/Nov/2020 16:10:35] \"\u001b[37mPOST /predict HTTP/1.1\u001b[0m\" 200 -\n"
          ],
          "name": "stderr"
        }
      ]
    },
    {
      "cell_type": "code",
      "metadata": {
        "id": "x7Jnb6o9uIa8",
        "colab": {
          "base_uri": "https://localhost:8080/"
        },
        "outputId": "c094afa7-6857-4812-acce-a534b3ddac38"
      },
      "source": [
        "def  Hello_world():\n",
        "  print (\"Hello world\")\n",
        "Hello_world()"
      ],
      "execution_count": null,
      "outputs": [
        {
          "output_type": "stream",
          "text": [
            "Hello world\n"
          ],
          "name": "stdout"
        }
      ]
    },
    {
      "cell_type": "code",
      "metadata": {
        "id": "Shpb_nS0wLmy",
        "colab": {
          "base_uri": "https://localhost:8080/"
        },
        "outputId": "2253ae71-2ee4-4461-97ba-7c2a1046cd8c"
      },
      "source": [
        "from  datetime import datetime\n",
        "def  today():\n",
        "  now = datetime.now()\n",
        "  current_time = now.strftime(\"%H:%M:%S\")\n",
        "  print(\"Current Time =\", current_time)\n",
        "  print  (\"today\",datetime.now())\n",
        "today()"
      ],
      "execution_count": null,
      "outputs": [
        {
          "output_type": "stream",
          "text": [
            "Current Time = 14:54:45\n",
            "today 2020-11-11 14:54:45.021415\n"
          ],
          "name": "stdout"
        }
      ]
    },
    {
      "cell_type": "code",
      "metadata": {
        "id": "MfphqRc81A5a",
        "colab": {
          "base_uri": "https://localhost:8080/"
        },
        "outputId": "422b1509-6877-4b8a-d54e-77f87517fde3"
      },
      "source": [
        "def  emoji_game():\n",
        "  input_ = input (\"guess emoji\")\n",
        "  if input_ == \"❤️\": \n",
        "    print (\"heart\")\n",
        "  else :\n",
        "    print (\"try again\")\n",
        "emoji_game()"
      ],
      "execution_count": null,
      "outputs": [
        {
          "output_type": "stream",
          "text": [
            "guess emoji)\n",
            "try again\n"
          ],
          "name": "stdout"
        }
      ]
    },
    {
      "cell_type": "code",
      "metadata": {
        "id": "CPC5vIHo5I0k",
        "colab": {
          "base_uri": "https://localhost:8080/"
        },
        "outputId": "52450086-abff-4e5f-9a56-533346e8bb71"
      },
      "source": [
        "!pip install flask-ngrok"
      ],
      "execution_count": null,
      "outputs": [
        {
          "output_type": "stream",
          "text": [
            "Collecting flask-ngrok\n",
            "  Downloading https://files.pythonhosted.org/packages/af/6c/f54cb686ad1129e27d125d182f90f52b32f284e6c8df58c1bae54fa1adbc/flask_ngrok-0.0.25-py3-none-any.whl\n",
            "Requirement already satisfied: requests in /usr/local/lib/python3.6/dist-packages (from flask-ngrok) (2.23.0)\n",
            "Requirement already satisfied: Flask>=0.8 in /usr/local/lib/python3.6/dist-packages (from flask-ngrok) (1.1.2)\n",
            "Requirement already satisfied: certifi>=2017.4.17 in /usr/local/lib/python3.6/dist-packages (from requests->flask-ngrok) (2020.6.20)\n",
            "Requirement already satisfied: urllib3!=1.25.0,!=1.25.1,<1.26,>=1.21.1 in /usr/local/lib/python3.6/dist-packages (from requests->flask-ngrok) (1.24.3)\n",
            "Requirement already satisfied: idna<3,>=2.5 in /usr/local/lib/python3.6/dist-packages (from requests->flask-ngrok) (2.10)\n",
            "Requirement already satisfied: chardet<4,>=3.0.2 in /usr/local/lib/python3.6/dist-packages (from requests->flask-ngrok) (3.0.4)\n",
            "Requirement already satisfied: Werkzeug>=0.15 in /usr/local/lib/python3.6/dist-packages (from Flask>=0.8->flask-ngrok) (1.0.1)\n",
            "Requirement already satisfied: itsdangerous>=0.24 in /usr/local/lib/python3.6/dist-packages (from Flask>=0.8->flask-ngrok) (1.1.0)\n",
            "Requirement already satisfied: click>=5.1 in /usr/local/lib/python3.6/dist-packages (from Flask>=0.8->flask-ngrok) (7.1.2)\n",
            "Requirement already satisfied: Jinja2>=2.10.1 in /usr/local/lib/python3.6/dist-packages (from Flask>=0.8->flask-ngrok) (2.11.2)\n",
            "Requirement already satisfied: MarkupSafe>=0.23 in /usr/local/lib/python3.6/dist-packages (from Jinja2>=2.10.1->Flask>=0.8->flask-ngrok) (1.1.1)\n",
            "Installing collected packages: flask-ngrok\n",
            "Successfully installed flask-ngrok-0.0.25\n"
          ],
          "name": "stdout"
        }
      ]
    },
    {
      "cell_type": "code",
      "metadata": {
        "id": "6lAQcKJA5aiy"
      },
      "source": [
        "from flask_ngrok import run_with_ngrok\n",
        "from flask import Flask, render_template, session, request, redirect "
      ],
      "execution_count": null,
      "outputs": []
    },
    {
      "cell_type": "code",
      "metadata": {
        "id": "Bos3OrkZ51ip"
      },
      "source": [
        ""
      ],
      "execution_count": null,
      "outputs": []
    },
    {
      "cell_type": "markdown",
      "metadata": {
        "id": "3k_eT1C_uLRC"
      },
      "source": [
        "def  Hello_world"
      ]
    },
    {
      "cell_type": "markdown",
      "metadata": {
        "id": "4tThFuLhvHJy"
      },
      "source": [
        ""
      ]
    },
    {
      "cell_type": "markdown",
      "metadata": {
        "id": "PKcYXsuPuJzK"
      },
      "source": [
        ""
      ]
    },
    {
      "cell_type": "code",
      "metadata": {
        "id": "sGlXGj6aQZ2t"
      },
      "source": [
        "import re"
      ],
      "execution_count": null,
      "outputs": []
    },
    {
      "cell_type": "code",
      "metadata": {
        "id": "MtJ-Jtt5QL0-"
      },
      "source": [
        "def remove_list(guess):\n",
        "  bad_chars = ['[', ']', ',', \"'\",\" \"]\n",
        "  guess = str(guess)\n",
        "  for i in bad_chars :\n",
        "      guess = guess.replace(i, '')\n",
        "  return guess"
      ],
      "execution_count": null,
      "outputs": []
    },
    {
      "cell_type": "code",
      "metadata": {
        "id": "ePOTwMVBOe7e",
        "colab": {
          "base_uri": "https://localhost:8080/"
        },
        "outputId": "5ca588c5-1d2a-422d-edb2-55a880ab8879"
      },
      "source": [
        "\n",
        "guess = str(guess)  \n",
        "guess = guess.replace('[','')\n",
        "guess = guess.replace(']','')\n",
        "guess = guess.replace(\"'\",\"\")\n",
        "guess = guess.replace(\",\",\"\")\n",
        "guess"
      ],
      "execution_count": null,
      "outputs": [
        {
          "output_type": "execute_result",
          "data": {
            "text/plain": [
              "str"
            ]
          },
          "metadata": {
            "tags": []
          },
          "execution_count": 92
        }
      ]
    },
    {
      "cell_type": "code",
      "metadata": {
        "id": "QlbAh9PZIIvH",
        "colab": {
          "base_uri": "https://localhost:8080/",
          "height": 35
        },
        "outputId": "4a0cf97c-0adb-4d24-ee22-bc4bd58c54be"
      },
      "source": [
        "collection_of_emojis = ['😊','😔','❤️','👍']\n",
        "import random\n",
        "guess = random.choices(collection_of_emojis,weights=[0.1,0.1,0.5,0.9], k=2)\n",
        "\n",
        "guess = \"\".join(guess)\n",
        "guess"
      ],
      "execution_count": null,
      "outputs": [
        {
          "output_type": "execute_result",
          "data": {
            "application/vnd.google.colaboratory.intrinsic+json": {
              "type": "string"
            },
            "text/plain": [
              "'😔👍'"
            ]
          },
          "metadata": {
            "tags": []
          },
          "execution_count": 117
        }
      ]
    },
    {
      "cell_type": "code",
      "metadata": {
        "id": "CtWS8tJeLzBo",
        "colab": {
          "base_uri": "https://localhost:8080/"
        },
        "outputId": "c11a93b2-0654-4479-d99d-3cbc8b980be8"
      },
      "source": [
        "\"hello\".replace(\"lo\", \"\")"
      ],
      "execution_count": null,
      "outputs": [
        {
          "output_type": "execute_result",
          "data": {
            "text/plain": [
              "True"
            ]
          },
          "metadata": {
            "tags": []
          },
          "execution_count": 60
        }
      ]
    },
    {
      "cell_type": "code",
      "metadata": {
        "id": "n7_bqPA8MHbP",
        "colab": {
          "base_uri": "https://localhost:8080/",
          "height": 35
        },
        "outputId": "19bbe2d3-5f1f-46b9-d9fc-3475f90567f0"
      },
      "source": [
        "string = \"hello\"\n",
        "result = string.replace(\"ll\",\"\")\n",
        "result"
      ],
      "execution_count": null,
      "outputs": [
        {
          "output_type": "execute_result",
          "data": {
            "application/vnd.google.colaboratory.intrinsic+json": {
              "type": "string"
            },
            "text/plain": [
              "'heo'"
            ]
          },
          "metadata": {
            "tags": []
          },
          "execution_count": 59
        }
      ]
    },
    {
      "cell_type": "code",
      "metadata": {
        "id": "nOz6GT_rJk2x",
        "colab": {
          "base_uri": "https://localhost:8080/"
        },
        "outputId": "2373154c-2167-4d7f-d6b6-92fa8271481b"
      },
      "source": [
        "string_list = [\"hello world\", \"something\"]\n",
        "# result = string.replace(\" \", \"\")\n",
        "# result = string + \".jpg\"\n",
        "for word in string_list:\n",
        "  if word.endswith(\"ing\"):\n",
        "    print(\"ing enging\")\n",
        "    print(word)"
      ],
      "execution_count": null,
      "outputs": [
        {
          "output_type": "stream",
          "text": [
            "ing enging\n",
            "something\n"
          ],
          "name": "stdout"
        }
      ]
    },
    {
      "cell_type": "code",
      "metadata": {
        "id": "NmAkYrzZK1Qe"
      },
      "source": [
        "for i in string:\n",
        "  print(i)"
      ],
      "execution_count": null,
      "outputs": []
    },
    {
      "cell_type": "markdown",
      "metadata": {
        "id": "mJckmKaRbcQP"
      },
      "source": [
        "# More advanced"
      ]
    },
    {
      "cell_type": "code",
      "metadata": {
        "id": "26nCgyp5ZrEs",
        "colab": {
          "base_uri": "https://localhost:8080/"
        },
        "outputId": "6cbdca02-aa69-40b0-b030-0edb9e070c60"
      },
      "source": [
        "#variant 2 : More advanced\n",
        "\n",
        "from flask_ngrok import run_with_ngrok\n",
        "from flask import Flask, render_template, session, request, redirect \n",
        "import os\n",
        "import random\n",
        "\n",
        "app = Flask(__name__)\n",
        "app.secret_key = 'thisIsSecret'\n",
        "run_with_ngrok(app)   #starts ngrok when the app is run\n",
        "\n",
        "collection_of_emojis = ['😊','😔','❤️','👍']\n",
        "\n",
        "@app.route('/', methods=['POST', 'GET'])\n",
        "def home():\n",
        "\n",
        "  guess =  random.choices(collection_of_emojis,[0.1, 0.1, 0.9, 0.1], k=3)\n",
        " \n",
        "  # first solution for list to string\n",
        "  # session[\"word\"] = remove_list(guess)\n",
        "  # second solution\n",
        "  guess = \"\".join(guess)\n",
        "  session[\"word\"] = guess\n",
        "\n",
        "  return render_template(\"index.html\", collection_of_emojis=collection_of_emojis)\n",
        "\n",
        "@app.route('/predict',methods = ['POST'])\n",
        "def predict(): \n",
        "  result = request.form[\"guess\"].replace(' ', '')\n",
        "  pred = session[\"word\"]\n",
        "  if result == pred:\n",
        "    text = \"You win! The answer is \"\n",
        "    return render_template(\"predict.html\", text=text, pred=pred)\n",
        "  # elif not result in collection_of_emojis:\n",
        "  #   text = \"You are hackerman! \"\n",
        "  #   text2 = \"❤️❤️❤️\"\n",
        "    return render_template(\"hackerman.html\", text=text, text2=text2)   \n",
        "  else:\n",
        "    text = \"Mismatch! The answer is \"\n",
        "    return render_template(\"predict_loose.html\", text=text, pred=pred)\n",
        "\n",
        "@app.route('/button') \n",
        "def get_ses(): \n",
        "  return redirect('/')\n",
        "  \t\n",
        "app.run()"
      ],
      "execution_count": null,
      "outputs": [
        {
          "output_type": "stream",
          "text": [
            " * Serving Flask app \"__main__\" (lazy loading)\n",
            " * Environment: production\n",
            "\u001b[31m   WARNING: This is a development server. Do not use it in a production deployment.\u001b[0m\n",
            "\u001b[2m   Use a production WSGI server instead.\u001b[0m\n",
            " * Debug mode: off\n"
          ],
          "name": "stdout"
        },
        {
          "output_type": "stream",
          "text": [
            " * Running on http://127.0.0.1:5000/ (Press CTRL+C to quit)\n"
          ],
          "name": "stderr"
        },
        {
          "output_type": "stream",
          "text": [
            " * Running on http://1293aa85544a.ngrok.io\n",
            " * Traffic stats available on http://127.0.0.1:4040\n"
          ],
          "name": "stdout"
        },
        {
          "output_type": "stream",
          "text": [
            "127.0.0.1 - - [18/Nov/2020 17:34:16] \"\u001b[37mGET / HTTP/1.1\u001b[0m\" 200 -\n",
            "127.0.0.1 - - [18/Nov/2020 17:34:16] \"\u001b[33mGET /favicon.ico HTTP/1.1\u001b[0m\" 404 -\n",
            "127.0.0.1 - - [18/Nov/2020 17:34:29] \"\u001b[37mPOST /predict HTTP/1.1\u001b[0m\" 200 -\n",
            "127.0.0.1 - - [18/Nov/2020 17:34:31] \"\u001b[32mGET /button HTTP/1.1\u001b[0m\" 302 -\n",
            "127.0.0.1 - - [18/Nov/2020 17:34:31] \"\u001b[37mGET / HTTP/1.1\u001b[0m\" 200 -\n",
            "127.0.0.1 - - [18/Nov/2020 17:34:36] \"\u001b[37mPOST /predict HTTP/1.1\u001b[0m\" 200 -\n"
          ],
          "name": "stderr"
        }
      ]
    },
    {
      "cell_type": "code",
      "metadata": {
        "id": "yJE1fzGHq5gE"
      },
      "source": [
        "# # put this files in /templates directory\n",
        "# #index.html\n",
        "\n",
        "# <!DOCTYPE html>\n",
        "# <html>\n",
        "# <head>\n",
        "#   <meta name=\"viewport\" content=\"width=device-width, initial-scale=1.0\">\n",
        "#     <title>Home</title>\n",
        "# </head>\n",
        "# <body>\n",
        " \n",
        "  \n",
        "#     <form action=\"{{ url_for(\"predict\") }}\" method=\"post\">\n",
        "#     <input name = \"guess\" type='text' autofocus placeholder=\"Try to guess an emoji!\">\n",
        "#     <input type = \"submit\" value=\"Result\" ></form>\n",
        "#     <h4> Choices: 😊 😔 ❤️ 👍 </h4>\n",
        "# </body>\n",
        "# </html>\n",
        "\n",
        "\n",
        "# #predict.html\n",
        "\n",
        "# <!DOCTYPE html>\n",
        "# <html>\n",
        "# <head>\n",
        "#   <meta name=\"viewport\" content=\"width=device-width, initial-scale=1.0\">\n",
        "#     <title>Result</title>\n",
        "# </head>\n",
        "# <body>\n",
        "#     <p class=\"text\">{{ text }} </p>\n",
        "#     <p class=\"pred\">{{ pred }} </p>\n",
        "#     <img src=\"https://media.giphy.com/media/LwFBZ6bUq3trKRphqq/giphy.gif\" alt=\"this slowpoke moves\"  width=250/>\n",
        "#     <a href=\"/button\"><input type=\"button\" value=\"Try again\"></a> \n",
        "\n",
        "# </body>\n",
        "# </html>\n",
        "\n",
        "# #predict_loose.html\n",
        "\n",
        "# <!DOCTYPE html>\n",
        "# <html>\n",
        "# <head>\n",
        "#   <meta name=\"viewport\" content=\"width=device-width, initial-scale=1.0\">\n",
        "#     <title>Result</title>\n",
        "# </head>\n",
        "# <body>\n",
        "#     <p class=\"text\">{{ text }} </p>\n",
        "#     <p class=\"pred\">{{ pred }} </p>\n",
        "#     <img src=\"http://i.stack.imgur.com/SBv4T.gif\" alt=\"this slowpoke moves\"  width=250/>\n",
        "#     <a href=\"/button\"><input type=\"button\" value=\"Try again\"></a> \n",
        "\n",
        "# </body>\n",
        "# </html>\n"
      ],
      "execution_count": null,
      "outputs": []
    },
    {
      "cell_type": "code",
      "metadata": {
        "id": "LIXp-FrwrWn3",
        "colab": {
          "base_uri": "https://localhost:8080/"
        },
        "outputId": "1dc51199-5d77-4c45-faab-3573e3aeb02b"
      },
      "source": [
        "from google.colab import drive\n",
        "drive.mount('/content/drive')"
      ],
      "execution_count": 27,
      "outputs": [
        {
          "output_type": "stream",
          "text": [
            "Mounted at /content/drive\n"
          ],
          "name": "stdout"
        }
      ]
    },
    {
      "cell_type": "code",
      "metadata": {
        "id": "qM6Xf8iYtYWY"
      },
      "source": [
        "!cp -r  /content/drive/My\\ Drive/emoji_game_flask_colab/templates /content/"
      ],
      "execution_count": null,
      "outputs": []
    },
    {
      "cell_type": "code",
      "metadata": {
        "id": "e7abCLUToBTW"
      },
      "source": [
        "# !mkdir templates"
      ],
      "execution_count": null,
      "outputs": []
    },
    {
      "cell_type": "code",
      "metadata": {
        "id": "KvIEoPCNr0dt"
      },
      "source": [
        "# !cp -r templates /content/drive/My\\ Drive/emoji_game_flask_colab"
      ],
      "execution_count": null,
      "outputs": []
    },
    {
      "cell_type": "code",
      "metadata": {
        "id": "VveWpScSsEx5",
        "colab": {
          "base_uri": "https://localhost:8080/"
        },
        "outputId": "ad2f0b0a-5217-4d2a-c687-8c39f53fdc62"
      },
      "source": [
        "!ls /content/drive/My\\ Drive/emoji_game_flask_colab/templates"
      ],
      "execution_count": null,
      "outputs": [
        {
          "output_type": "stream",
          "text": [
            "hackerman2.html  hackerman.html  index.html  predict.html  predict_loose.html\n"
          ],
          "name": "stdout"
        }
      ]
    },
    {
      "cell_type": "code",
      "metadata": {
        "id": "rug3S48IsLzK"
      },
      "source": [
        ""
      ],
      "execution_count": null,
      "outputs": []
    }
  ]
}