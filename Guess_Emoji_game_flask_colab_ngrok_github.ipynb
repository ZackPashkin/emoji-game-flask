{
  "nbformat": 4,
  "nbformat_minor": 0,
  "metadata": {
    "colab": {
      "name": "Guess Emoji game flask colab ngrok github.ipynb",
      "provenance": [],
      "collapsed_sections": [],
      "toc_visible": true,
      "include_colab_link": true
    },
    "kernelspec": {
      "name": "python3",
      "display_name": "Python 3"
    }
  },
  "cells": [
    {
      "cell_type": "markdown",
      "metadata": {
        "id": "view-in-github",
        "colab_type": "text"
      },
      "source": [
        "<a href=\"https://colab.research.google.com/github/ZackPashkin/emoji-game-flask/blob/main/Guess_Emoji_game_flask_colab_ngrok_github.ipynb\" target=\"_parent\"><img src=\"https://colab.research.google.com/assets/colab-badge.svg\" alt=\"Open In Colab\"/></a>"
      ]
    },
    {
      "cell_type": "markdown",
      "metadata": {
        "id": "mJckmKaRbcQP"
      },
      "source": [
        "# More advanced"
      ]
    },
    {
      "cell_type": "code",
      "metadata": {
        "colab": {
          "base_uri": "https://localhost:8080/"
        },
        "id": "8Vb_D1OkqcZS",
        "outputId": "7b4a4fce-1b77-4935-d13f-47db48085ed1"
      },
      "source": [
        "!pip install flask-ngrok\n",
        "!git clone https://github.com/ZackPashkin/emoji-game-flask.git\n",
        "!cp -r /content/emoji-game-flask/templates /content"
      ],
      "execution_count": 1,
      "outputs": [
        {
          "output_type": "stream",
          "text": [
            "Collecting flask-ngrok\n",
            "  Downloading https://files.pythonhosted.org/packages/af/6c/f54cb686ad1129e27d125d182f90f52b32f284e6c8df58c1bae54fa1adbc/flask_ngrok-0.0.25-py3-none-any.whl\n",
            "Requirement already satisfied: requests in /usr/local/lib/python3.6/dist-packages (from flask-ngrok) (2.23.0)\n",
            "Requirement already satisfied: Flask>=0.8 in /usr/local/lib/python3.6/dist-packages (from flask-ngrok) (1.1.2)\n",
            "Requirement already satisfied: urllib3!=1.25.0,!=1.25.1,<1.26,>=1.21.1 in /usr/local/lib/python3.6/dist-packages (from requests->flask-ngrok) (1.24.3)\n",
            "Requirement already satisfied: idna<3,>=2.5 in /usr/local/lib/python3.6/dist-packages (from requests->flask-ngrok) (2.10)\n",
            "Requirement already satisfied: certifi>=2017.4.17 in /usr/local/lib/python3.6/dist-packages (from requests->flask-ngrok) (2020.6.20)\n",
            "Requirement already satisfied: chardet<4,>=3.0.2 in /usr/local/lib/python3.6/dist-packages (from requests->flask-ngrok) (3.0.4)\n",
            "Requirement already satisfied: Jinja2>=2.10.1 in /usr/local/lib/python3.6/dist-packages (from Flask>=0.8->flask-ngrok) (2.11.2)\n",
            "Requirement already satisfied: click>=5.1 in /usr/local/lib/python3.6/dist-packages (from Flask>=0.8->flask-ngrok) (7.1.2)\n",
            "Requirement already satisfied: itsdangerous>=0.24 in /usr/local/lib/python3.6/dist-packages (from Flask>=0.8->flask-ngrok) (1.1.0)\n",
            "Requirement already satisfied: Werkzeug>=0.15 in /usr/local/lib/python3.6/dist-packages (from Flask>=0.8->flask-ngrok) (1.0.1)\n",
            "Requirement already satisfied: MarkupSafe>=0.23 in /usr/local/lib/python3.6/dist-packages (from Jinja2>=2.10.1->Flask>=0.8->flask-ngrok) (1.1.1)\n",
            "Installing collected packages: flask-ngrok\n",
            "Successfully installed flask-ngrok-0.0.25\n",
            "Cloning into 'emoji-game-flask'...\n",
            "remote: Enumerating objects: 20, done.\u001b[K\n",
            "remote: Counting objects: 100% (20/20), done.\u001b[K\n",
            "remote: Compressing objects: 100% (14/14), done.\u001b[K\n",
            "remote: Total 20 (delta 3), reused 12 (delta 3), pack-reused 0\u001b[K\n",
            "Unpacking objects: 100% (20/20), done.\n"
          ],
          "name": "stdout"
        }
      ]
    },
    {
      "cell_type": "code",
      "metadata": {
        "id": "6YM5nJ1E237Y",
        "colab": {
          "base_uri": "https://localhost:8080/"
        },
        "outputId": "817b0e65-f56c-4b0d-d635-6a9e59f8a84d"
      },
      "source": [
        "guess = ['❤️', '❤️', '❤️']\n",
        "user_input = ['❤️']\n",
        "# user_input = '👍😔'\n",
        "user_input_list_1 = []\n",
        "for i in user_input:\n",
        "  user_input_list_1.append(i)\n",
        "print(user_input_list_1)\n",
        "print(len(user_input_list_1))\n",
        "# def count_matches(user_input=user_input,guess=guess):\n",
        "#   counter = 0\n",
        "#   for element in user_input:\n",
        "#     if element in guess:\n",
        "#       counter +=1    \n",
        "#   return counter\n",
        "\n",
        "# count_matches()  \n",
        "user_input_list_2 = [i for i in user_input_list_1 if i]\n",
        "print(user_input_list_2)\n",
        "print(len(user_input_list_2))"
      ],
      "execution_count": 30,
      "outputs": [
        {
          "output_type": "stream",
          "text": [
            "['❤️']\n",
            "1\n",
            "['❤️']\n",
            "1\n"
          ],
          "name": "stdout"
        }
      ]
    },
    {
      "cell_type": "code",
      "metadata": {
        "id": "meQm_MId3Im1",
        "colab": {
          "base_uri": "https://localhost:8080/"
        },
        "outputId": "598d1750-1e30-4f82-fb3e-102bb1b32535"
      },
      "source": [
        "print(\"\\u2764\\ufe0f\")"
      ],
      "execution_count": null,
      "outputs": [
        {
          "output_type": "stream",
          "text": [
            "❤️\n"
          ],
          "name": "stdout"
        }
      ]
    },
    {
      "cell_type": "code",
      "metadata": {
        "id": "26nCgyp5ZrEs",
        "colab": {
          "base_uri": "https://localhost:8080/"
        },
        "outputId": "b3896654-05e0-499b-c70c-54f8ea5b0571"
      },
      "source": [
        "#variant 2 : More advanced\n",
        "\n",
        "from flask_ngrok import run_with_ngrok\n",
        "from flask import Flask, render_template, session, request, redirect \n",
        "import os\n",
        "import random\n",
        "\n",
        "app = Flask(__name__)\n",
        "app.secret_key = 'thisIsSecret'\n",
        "run_with_ngrok(app)   #starts ngrok when the app is run\n",
        "\n",
        "collection_of_emojis = ['😊','😔','❤️','👍']\n",
        "# collection_of_emojis = ['a','b','c','d']\n",
        "\n",
        "@app.route('/', methods=['POST', 'GET'])\n",
        "def home():\n",
        "  guess =  random.choices(collection_of_emojis,[0.1, 0.1, 0.9, 0.1], k=3)\n",
        "  session[\"word\"] = guess\n",
        "  return render_template(\"index.html\", collection_of_emojis=collection_of_emojis)\n",
        "\n",
        "@app.route('/predict',methods = ['POST'])\n",
        "def predict(): \n",
        "  user_input = request.form[\"guess\"].replace(' ', '')\n",
        "  pred = session[\"word\"]\n",
        "\n",
        "  user_input_list_1 = []\n",
        "  for i in user_input:\n",
        "    user_input_list_1.append(i)\n",
        "  user_input_list_1 = [i for i in user_input_list_1 if i]\n",
        "\n",
        "  count = count_matches(user_input=user_input_list_1,guess=pred)\n",
        "  \n",
        "  if user_input == \"\".join(pred):\n",
        "    text = \"You win! You have full match! \\n The answer is \"\n",
        "    text2 = f\"count_matches: {count} \\n user_input: {user_input}  \"\n",
        "    return render_template(\"predict.html\", text=text, text2=text2, pred=\"\".join(pred))\n",
        "  \n",
        "  if count >= 1:\n",
        "    text = f\"You win {count} of three! \\n The answer is \"\n",
        "    text2 = f\"count_matches: {count} \\n user_input: {user_input}  \"\n",
        "    return render_template(\"predict.html\", text=text, text2=text2, pred=\"\".join(pred))\n",
        "\n",
        "  # elif not user_input in collection_of_emojis:\n",
        "  #   text = \"You are hackerman! \"\n",
        "  #   text2 = \"❤️❤️❤️\"\n",
        "    # return render_template(\"hackerman.html\", text=text, text2=text2)   \n",
        "  # else:\n",
        "  elif count == 0:\n",
        "    # text = \"Mismatch! The answer is \"\n",
        "    text = f\"count_matches: {count} \\n user_input: {user_input}  \"\n",
        "    return render_template(\"predict_loose.html\", text=text, pred=\"\".join(pred))\n",
        "\n",
        "@app.route('/button') \n",
        "def get_ses(): \n",
        "  return redirect('/')\n",
        "  \t\n",
        "app.run()"
      ],
      "execution_count": 31,
      "outputs": [
        {
          "output_type": "stream",
          "text": [
            " * Serving Flask app \"__main__\" (lazy loading)\n",
            " * Environment: production\n",
            "\u001b[31m   WARNING: This is a development server. Do not use it in a production deployment.\u001b[0m\n",
            "\u001b[2m   Use a production WSGI server instead.\u001b[0m\n",
            " * Debug mode: off\n"
          ],
          "name": "stdout"
        },
        {
          "output_type": "stream",
          "text": [
            " * Running on http://127.0.0.1:5000/ (Press CTRL+C to quit)\n"
          ],
          "name": "stderr"
        },
        {
          "output_type": "stream",
          "text": [
            " * Running on http://65834737360c.ngrok.io\n",
            " * Traffic stats available on http://127.0.0.1:4040\n"
          ],
          "name": "stdout"
        },
        {
          "output_type": "stream",
          "text": [
            "127.0.0.1 - - [21/Nov/2020 18:58:45] \"\u001b[37mGET / HTTP/1.1\u001b[0m\" 200 -\n",
            "127.0.0.1 - - [21/Nov/2020 18:58:45] \"\u001b[33mGET /favicon.ico HTTP/1.1\u001b[0m\" 404 -\n",
            "127.0.0.1 - - [21/Nov/2020 18:58:49] \"\u001b[37mPOST /predict HTTP/1.1\u001b[0m\" 200 -\n",
            "127.0.0.1 - - [21/Nov/2020 18:59:18] \"\u001b[32mGET /button HTTP/1.1\u001b[0m\" 302 -\n",
            "127.0.0.1 - - [21/Nov/2020 18:59:18] \"\u001b[37mGET / HTTP/1.1\u001b[0m\" 200 -\n",
            "127.0.0.1 - - [21/Nov/2020 18:59:21] \"\u001b[37mPOST /predict HTTP/1.1\u001b[0m\" 200 -\n",
            "127.0.0.1 - - [21/Nov/2020 18:59:29] \"\u001b[32mGET /button HTTP/1.1\u001b[0m\" 302 -\n",
            "127.0.0.1 - - [21/Nov/2020 18:59:29] \"\u001b[37mGET / HTTP/1.1\u001b[0m\" 200 -\n",
            "127.0.0.1 - - [21/Nov/2020 18:59:35] \"\u001b[37mPOST /predict HTTP/1.1\u001b[0m\" 200 -\n"
          ],
          "name": "stderr"
        }
      ]
    },
    {
      "cell_type": "code",
      "metadata": {
        "id": "eOBVjx8d1EJo"
      },
      "source": [
        ""
      ],
      "execution_count": null,
      "outputs": []
    }
  ]
}