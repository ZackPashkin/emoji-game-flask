{
  "nbformat": 4,
  "nbformat_minor": 0,
  "metadata": {
    "colab": {
      "name": "Guess Emoji game flask colab ngrok github.ipynb",
      "provenance": [],
      "collapsed_sections": [],
      "toc_visible": true,
      "include_colab_link": true
    },
    "kernelspec": {
      "name": "python3",
      "display_name": "Python 3"
    }
  },
  "cells": [
    {
      "cell_type": "markdown",
      "metadata": {
        "id": "view-in-github",
        "colab_type": "text"
      },
      "source": [
        "<a href=\"https://colab.research.google.com/github/ZackPashkin/emoji-game-flask/blob/main/Guess_Emoji_game_flask_colab_ngrok_github.ipynb\" target=\"_parent\"><img src=\"https://colab.research.google.com/assets/colab-badge.svg\" alt=\"Open In Colab\"/></a>"
      ]
    },
    {
      "cell_type": "markdown",
      "metadata": {
        "id": "mJckmKaRbcQP"
      },
      "source": [
        "# More advanced"
      ]
    },
    {
      "cell_type": "code",
      "metadata": {
        "colab": {
          "base_uri": "https://localhost:8080/"
        },
        "id": "8Vb_D1OkqcZS",
        "outputId": "5328efe3-5d2c-4574-fadb-d5d354b4cd96"
      },
      "source": [
        "!pip install flask-ngrok\n",
        "!git clone https://github.com/ZackPashkin/emoji-game-flask.git\n",
        "!cp -r /content/emoji-game-flask/templates /content"
      ],
      "execution_count": 1,
      "outputs": [
        {
          "output_type": "stream",
          "text": [
            "Collecting flask-ngrok\n",
            "  Downloading https://files.pythonhosted.org/packages/af/6c/f54cb686ad1129e27d125d182f90f52b32f284e6c8df58c1bae54fa1adbc/flask_ngrok-0.0.25-py3-none-any.whl\n",
            "Requirement already satisfied: requests in /usr/local/lib/python3.6/dist-packages (from flask-ngrok) (2.23.0)\n",
            "Requirement already satisfied: Flask>=0.8 in /usr/local/lib/python3.6/dist-packages (from flask-ngrok) (1.1.2)\n",
            "Requirement already satisfied: certifi>=2017.4.17 in /usr/local/lib/python3.6/dist-packages (from requests->flask-ngrok) (2020.11.8)\n",
            "Requirement already satisfied: urllib3!=1.25.0,!=1.25.1,<1.26,>=1.21.1 in /usr/local/lib/python3.6/dist-packages (from requests->flask-ngrok) (1.24.3)\n",
            "Requirement already satisfied: chardet<4,>=3.0.2 in /usr/local/lib/python3.6/dist-packages (from requests->flask-ngrok) (3.0.4)\n",
            "Requirement already satisfied: idna<3,>=2.5 in /usr/local/lib/python3.6/dist-packages (from requests->flask-ngrok) (2.10)\n",
            "Requirement already satisfied: itsdangerous>=0.24 in /usr/local/lib/python3.6/dist-packages (from Flask>=0.8->flask-ngrok) (1.1.0)\n",
            "Requirement already satisfied: click>=5.1 in /usr/local/lib/python3.6/dist-packages (from Flask>=0.8->flask-ngrok) (7.1.2)\n",
            "Requirement already satisfied: Werkzeug>=0.15 in /usr/local/lib/python3.6/dist-packages (from Flask>=0.8->flask-ngrok) (1.0.1)\n",
            "Requirement already satisfied: Jinja2>=2.10.1 in /usr/local/lib/python3.6/dist-packages (from Flask>=0.8->flask-ngrok) (2.11.2)\n",
            "Requirement already satisfied: MarkupSafe>=0.23 in /usr/local/lib/python3.6/dist-packages (from Jinja2>=2.10.1->Flask>=0.8->flask-ngrok) (1.1.1)\n",
            "Installing collected packages: flask-ngrok\n",
            "Successfully installed flask-ngrok-0.0.25\n",
            "Cloning into 'emoji-game-flask'...\n",
            "remote: Enumerating objects: 45, done.\u001b[K\n",
            "remote: Counting objects: 100% (45/45), done.\u001b[K\n",
            "remote: Compressing objects: 100% (39/39), done.\u001b[K\n",
            "remote: Total 45 (delta 18), reused 11 (delta 3), pack-reused 0\u001b[K\n",
            "Unpacking objects: 100% (45/45), done.\n"
          ],
          "name": "stdout"
        }
      ]
    },
    {
      "cell_type": "code",
      "metadata": {
        "id": "OmMv-XcnkOkl",
        "outputId": "9b29ce7b-722f-4fe3-a971-734a21a9b34a",
        "colab": {
          "base_uri": "https://localhost:8080/"
        }
      },
      "source": [
        "guess = ['❤️', '❤️', '❤️']\n",
        "user_input = ['❤️','❤️','👍','❤️']\n",
        "# user_input = '👍😔'\n",
        "\n",
        "def count_matches(user_input=user_input,guess=guess):\n",
        "  counter = 0\n",
        "  for element in user_input:\n",
        "    if element in guess:\n",
        "      counter +=1    \n",
        "  return counter\n",
        "\n",
        "count_matches()"
      ],
      "execution_count": 7,
      "outputs": [
        {
          "output_type": "execute_result",
          "data": {
            "text/plain": [
              "3"
            ]
          },
          "metadata": {
            "tags": []
          },
          "execution_count": 7
        }
      ]
    },
    {
      "cell_type": "code",
      "metadata": {
        "id": "26nCgyp5ZrEs",
        "colab": {
          "base_uri": "https://localhost:8080/"
        },
        "outputId": "8f8cdfce-45aa-4e2a-bc38-6d6d5fb2e0f1"
      },
      "source": [
        "#variant 2 : More advanced\n",
        "\n",
        "from flask_ngrok import run_with_ngrok\n",
        "from flask import Flask, render_template, session, request, redirect \n",
        "import os\n",
        "import random\n",
        "\n",
        "app = Flask(__name__)\n",
        "app.secret_key = 'thisIsSecret'\n",
        "run_with_ngrok(app)   #starts ngrok when the app is run\n",
        "\n",
        "collection_of_emojis = ['😊','😔','❤️','👍']\n",
        "# collection_of_emojis = ['a','b','c','d']\n",
        "\n",
        "@app.route('/', methods=['POST', 'GET'])\n",
        "def home():\n",
        "  guess =  random.choices(collection_of_emojis,[0.1, 0.1, 0.9, 0.1], k=3)\n",
        "  session[\"word\"] = guess\n",
        "  return render_template(\"index.html\", collection_of_emojis=collection_of_emojis)\n",
        "\n",
        "@app.route('/predict',methods = ['POST'])\n",
        "def predict(): \n",
        "  user_input = request.form[\"guess\"].replace(' ', '')\n",
        "  pred = session[\"word\"]\n",
        "\n",
        "  user_input_list_1 = []\n",
        "  for i in user_input:\n",
        "    user_input_list_1.append(i)\n",
        "  user_input_list_1 = [i for i in user_input_list_1 if i]\n",
        "\n",
        "  count = count_matches(user_input=user_input_list_1,guess=pred)\n",
        "  \n",
        "  if user_input == \"\".join(pred):\n",
        "    text = \"You win! You have full match! \\n The answer is \"\n",
        "    text2 = f\"count_matches: {count} \\n user_input: {user_input}  \"\n",
        "    return render_template(\"predict.html\", text=text, text2=text2, pred=\"\".join(pred))\n",
        "  \n",
        "  if count >= 1:\n",
        "    text = f\"You win {count} of three! \\n The answer is \"\n",
        "    text2 = f\"count_matches: {count} \\n user_input: {user_input}  \"\n",
        "    return render_template(\"predict.html\", text=text, text2=text2, pred=\"\".join(pred))\n",
        "\n",
        "  # elif not user_input in collection_of_emojis:\n",
        "  #   text = \"You are hackerman! \"\n",
        "  #   text2 = \"❤️❤️❤️\"\n",
        "    # return render_template(\"hackerman.html\", text=text, text2=text2)   \n",
        "  # else:\n",
        "  elif count == 0:\n",
        "    # text = \"Mismatch! The answer is \"\n",
        "    text = f\"count_matches: {count} \\n user_input: {user_input}  \"\n",
        "    return render_template(\"predict_loose.html\", text=text, pred=\"\".join(pred))\n",
        "\n",
        "@app.route('/button') \n",
        "def get_ses(): \n",
        "  return redirect('/')\n",
        "  \t\n",
        "app.run()"
      ],
      "execution_count": 9,
      "outputs": [
        {
          "output_type": "stream",
          "text": [
            " * Serving Flask app \"__main__\" (lazy loading)\n",
            " * Environment: production\n",
            "\u001b[31m   WARNING: This is a development server. Do not use it in a production deployment.\u001b[0m\n",
            "\u001b[2m   Use a production WSGI server instead.\u001b[0m\n",
            " * Debug mode: off\n"
          ],
          "name": "stdout"
        },
        {
          "output_type": "stream",
          "text": [
            " * Running on http://127.0.0.1:5000/ (Press CTRL+C to quit)\n"
          ],
          "name": "stderr"
        },
        {
          "output_type": "stream",
          "text": [
            " * Running on http://4ae8f1c7319f.ngrok.io\n",
            " * Traffic stats available on http://127.0.0.1:4040\n"
          ],
          "name": "stdout"
        },
        {
          "output_type": "stream",
          "text": [
            "127.0.0.1 - - [24/Nov/2020 14:14:08] \"\u001b[37mGET / HTTP/1.1\u001b[0m\" 200 -\n",
            "127.0.0.1 - - [24/Nov/2020 14:14:09] \"\u001b[33mGET /favicon.ico HTTP/1.1\u001b[0m\" 404 -\n",
            "127.0.0.1 - - [24/Nov/2020 14:14:13] \"\u001b[37mPOST /predict HTTP/1.1\u001b[0m\" 200 -\n"
          ],
          "name": "stderr"
        }
      ]
    },
    {
      "cell_type": "code",
      "metadata": {
        "id": "eOBVjx8d1EJo"
      },
      "source": [
        ""
      ],
      "execution_count": null,
      "outputs": []
    }
  ]
}